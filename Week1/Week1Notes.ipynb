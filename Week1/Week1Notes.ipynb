{
 "cells": [
  {
   "cell_type": "markdown",
   "metadata": {},
   "source": [
    "syllabus Notes:\n",
    "-For skills test you must record skills test when remote at beginning of class\n",
    "\n",
    "sql intro week 1 power point notes: \n",
    "\n",
    "\n",
    "\n",
    "\n",
    "SQL Assignment 1 - Q&A-1.html: file:///C:/Users/rescu/Downloads/SQL%20Assignment%201%20-%20Q&A-1.htm"
   ]
  }
 ],
 "metadata": {
  "language_info": {
   "name": "python"
  }
 },
 "nbformat": 4,
 "nbformat_minor": 2
}
